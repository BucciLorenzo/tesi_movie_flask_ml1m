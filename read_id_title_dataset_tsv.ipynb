{
 "cells": [
  {
   "cell_type": "code",
   "execution_count": 7,
   "metadata": {},
   "outputs": [],
   "source": [
    "import csv"
   ]
  },
  {
   "cell_type": "code",
   "execution_count": 8,
   "metadata": {},
   "outputs": [],
   "source": [
    "def read_movie_tsv(file_path):\n",
    "    \"\"\"\n",
    "    Legge un file TSV e restituisce un dizionario con ID e titoli dei film.\n",
    "\n",
    "    Args:\n",
    "        file_path (str): Il percorso del file TSV.\n",
    "\n",
    "    Returns:\n",
    "        dict: Un dizionario con gli ID dei film come chiavi e i titoli come valori.\n",
    "    \"\"\"\n",
    "    movies = {}\n",
    "    with open(file_path, mode='r', encoding='utf-8') as file:\n",
    "        reader = csv.DictReader(file, delimiter='\\t')\n",
    "        for row in reader:\n",
    "            movie_id = row.get(\"id\")\n",
    "            title = row.get(\"Title\")  # Modifica per corrispondere a 'Title' con la T maiuscola\n",
    "            if movie_id and title:\n",
    "                movies[movie_id] = title\n",
    "    return movies"
   ]
  }
 ],
 "metadata": {
  "kernelspec": {
   "display_name": "base",
   "language": "python",
   "name": "python3"
  },
  "language_info": {
   "codemirror_mode": {
    "name": "ipython",
    "version": 3
   },
   "file_extension": ".py",
   "mimetype": "text/x-python",
   "name": "python",
   "nbconvert_exporter": "python",
   "pygments_lexer": "ipython3",
   "version": "3.7.4"
  }
 },
 "nbformat": 4,
 "nbformat_minor": 2
}
